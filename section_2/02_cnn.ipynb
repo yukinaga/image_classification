{
  "nbformat": 4,
  "nbformat_minor": 0,
  "metadata": {
    "colab": {
      "name": "02_cnn.ipynb",
      "provenance": [],
      "collapsed_sections": [],
      "include_colab_link": true
    },
    "kernelspec": {
      "name": "python3",
      "display_name": "Python 3"
    },
    "accelerator": "GPU"
  },
  "cells": [
    {
      "cell_type": "markdown",
      "metadata": {
        "id": "view-in-github",
        "colab_type": "text"
      },
      "source": [
        "<a href=\"https://colab.research.google.com/github/yukinaga/image_classification/blob/main/section_2/02_cnn.ipynb\" target=\"_parent\"><img src=\"https://colab.research.google.com/assets/colab-badge.svg\" alt=\"Open In Colab\"/></a>"
      ]
    },
    {
      "cell_type": "markdown",
      "metadata": {
        "id": "Niaz8_W6OX34"
      },
      "source": [
        "# CNNの実装\n",
        "PyTorchを使って、畳み込みニューラルネットワーク（CNN）を実装します。  \n",
        "CNN自体はCNNの層を追加するのみで実装可能なのですが、今回はデータ拡張とドロップアウトの実装も行います。  \n",
        "学習に時間がかかるので、「編集」→「ノートブックの設定」の「ハードウェアアクセラレーター」で「GPU」を選択しましょう。"
      ]
    },
    {
      "cell_type": "markdown",
      "metadata": {
        "id": "vsncPqQ-gZJr"
      },
      "source": [
        "## データの前処理\n",
        "ここからCNNを実装します。  \n",
        "データ拡張として、回転とリサイズ、および左右反転を行います。  \n",
        "また、学習が効率的になるように入力の平均値を0、標準偏差を1にします（標準化）。  \n",
        "DataLoaderは、訓練データ、テストデータそれぞれで設定しますが、テストデータにはミニバッチ法を適用しないのでバッチサイズは元データのサンプル数にします。"
      ]
    },
    {
      "cell_type": "code",
      "metadata": {
        "id": "7t3NRHjhKyC0"
      },
      "source": [
        "from torchvision.datasets import CIFAR10\n",
        "import torchvision.transforms as transforms\n",
        "from torch.utils.data import DataLoader\n",
        "\n",
        "affine = transforms.RandomAffine([-30, 30], scale=(0.8, 1.2))  # 回転とリサイズ\n",
        "flip = transforms.RandomHorizontalFlip(p=0.5)  # 左右反転\n",
        "normalize = transforms.Normalize((0.0, 0.0, 0.0), (1.0, 1.0, 1.0))  # 平均値を0、標準偏差を1に\n",
        "to_tensor = transforms.ToTensor()\n",
        "\n",
        "transform_train = transforms.Compose([affine, flip, to_tensor, normalize])\n",
        "transform_test = transforms.Compose([to_tensor, normalize])\n",
        "cifar10_train = CIFAR10(\"./data\", train=True, download=True, transform=transform_train)\n",
        "cifar10_test = CIFAR10(\"./data\", train=False, download=True, transform=transform_test)\n",
        "\n",
        "# DataLoaderの設定\n",
        "batch_size = 64\n",
        "train_loader = DataLoader(cifar10_train, batch_size=batch_size, shuffle=True)\n",
        "test_loader = DataLoader(cifar10_test, batch_size=batch_size, shuffle=False)"
      ],
      "execution_count": null,
      "outputs": []
    },
    {
      "cell_type": "markdown",
      "metadata": {
        "id": "FalXNYaJPkoE"
      },
      "source": [
        "## モデルの構築\n",
        "`nn.Module`モジュールを継承したクラスとして、CNNのモデルを構築します。  \n",
        "今回は、全結合層にニューロンをランダムに削除する「ドロップアウト」を導入します。  \n",
        "ドロップアウトを導入することで、未知のデータに対してより頑強になるようにモデルを訓練することができます。    "
      ]
    },
    {
      "cell_type": "code",
      "metadata": {
        "id": "SuqqZmsh_jNK"
      },
      "source": [
        "import torch.nn as nn\n",
        "\n",
        "class Net(nn.Module):\n",
        "    def __init__(self):\n",
        "        super().__init__()\n",
        "        self.conv1 = nn.Conv2d(3, 6, 5)  # 畳み込み層:(入力チャンネル数, フィルタ数, フィルタサイズ)\n",
        "        self.relu = nn.ReLU()  # ReLU\n",
        "        self.pool = nn.MaxPool2d(2, 2)  # プーリング層:（領域のサイズ, 領域の間隔）\n",
        "        self.conv2 = nn.Conv2d(6, 16, 5)\n",
        "        self.fc1 = nn.Linear(16*5*5, 256)  # 全結合層\n",
        "        self.dropout = nn.Dropout(p=0.5)  # ドロップアウト:(p=ドロップアウト率)\n",
        "        self.fc2 = nn.Linear(256, 10)\n",
        "\n",
        "    def forward(self, x):\n",
        "        x = self.relu(self.conv1(x))\n",
        "        x = self.pool(x)\n",
        "        x = self.relu(self.conv2(x))\n",
        "        x = self.pool(x)\n",
        "        x = x.view(-1, 16*5*5)\n",
        "        x = self.relu(self.fc1(x))\n",
        "        x = self.dropout(x)\n",
        "        x = self.fc2(x)\n",
        "        return x\n",
        "\n",
        "net = Net()\n",
        "net.cuda()  # GPU対応\n",
        "print(net)"
      ],
      "execution_count": null,
      "outputs": []
    },
    {
      "cell_type": "markdown",
      "source": [
        "各層で、画像のサイズ(チャンネル数, 画像高さ, 画像幅)\n",
        "は以下の通りに変化します。  \n",
        "  \n",
        "入力画像: (3, 32, 32)  \n",
        "↓  \n",
        "nn.Conv2d(3, 6, 5): (6, 28, 28)  \n",
        "↓  \n",
        "nn.MaxPool2d(2, 2): (6, 14, 14)  \n",
        "↓  \n",
        "nn.Conv2d(6, 16, 5): (16, 10, 10)  \n",
        "↓  \n",
        "nn.MaxPool2d(2, 2): (16, 5, 5)  \n",
        "  \n",
        "画像の高さおよび幅は、以下の式を使って計算しました。  \n",
        "\n",
        "$$O_h=\\frac{I_h-F_h+2D}{S}+1$$\n",
        "$$O_w=\\frac{I_w-F_w+2D}{S}+1$$\n",
        "\n",
        "$O_h$、$O_w$: 出力画像の高さ、幅  \n",
        "$I_h$、$I_w$: 入力画像の高さ、幅  \n",
        "$F_h$、$F_w$: フィルタの高さ、幅  \n",
        "$D$: パディング  \n",
        "$S$: ストライド  \n",
        "  \n",
        "今回、全ての畳み込み層でパディングは0、ストライドは1となっています。  "
      ],
      "metadata": {
        "id": "bRrRNmeWoZp_"
      }
    },
    {
      "cell_type": "markdown",
      "metadata": {
        "id": "qsW5zCKhQE9p"
      },
      "source": [
        "## 学習\n",
        "モデルを訓練します。  \n",
        "DataLoaderを使い、ミニバッチを取り出して訓練および評価を行います。  \n",
        "今回は、評価時にミニバッチ法は使わず、テストデータ全体を使って一度に誤差を計算します。  "
      ]
    },
    {
      "cell_type": "code",
      "metadata": {
        "id": "u6zwN3nArbGC"
      },
      "source": [
        "from torch import optim\n",
        "\n",
        "# 交差エントロピー誤差関数\n",
        "loss_fnc = nn.CrossEntropyLoss()\n",
        "\n",
        "# 最適化アルゴリズム\n",
        "optimizer = optim.Adam(net.parameters())\n",
        "\n",
        "# 損失のログ\n",
        "record_loss_train = []\n",
        "record_loss_test = []\n",
        "\n",
        "# 学習\n",
        "x_test, t_test = iter(test_loader).next()\n",
        "x_test, t_test = x_test.cuda(), t_test.cuda()\n",
        "for i in range(20):  # 20エポック学習\n",
        "    net.train()  # 訓練モード\n",
        "    loss_train = 0\n",
        "    for j, (x, t) in enumerate(train_loader):  # ミニバッチ（x, t）を取り出す\n",
        "        x, t = x.cuda(), t.cuda()  # GPU対応\n",
        "        y = net(x)\n",
        "        loss = loss_fnc(y, t)\n",
        "        loss_train += loss.item()\n",
        "        optimizer.zero_grad()\n",
        "        loss.backward()\n",
        "        optimizer.step()\n",
        "    loss_train /= j+1\n",
        "    record_loss_train.append(loss_train)\n",
        "\n",
        "    net.eval()  # 評価モード\n",
        "    loss_test = 0\n",
        "    for j, (x, t) in enumerate(test_loader):  # ミニバッチ（x, t）を取り出す\n",
        "        x, t = x.cuda(), t.cuda()\n",
        "        y = net(x)\n",
        "        loss = loss_fnc(y, t)\n",
        "        loss_test += loss.item()\n",
        "    loss_test /= j+1\n",
        "    record_loss_test.append(loss_test)\n",
        "\n",
        "    if i%1 == 0:\n",
        "        print(\"Epoch:\", i, \"Loss_Train:\", loss_train, \"Loss_Test:\", loss_test)"
      ],
      "execution_count": null,
      "outputs": []
    },
    {
      "cell_type": "markdown",
      "metadata": {
        "id": "rJwwrWTw43rx"
      },
      "source": [
        "## 誤差の推移\n",
        "訓練データ、テストデータで誤差の推移をグラフ表示します。  "
      ]
    },
    {
      "cell_type": "code",
      "metadata": {
        "id": "OaJx4swE45XI"
      },
      "source": [
        "import matplotlib.pyplot as plt\n",
        "\n",
        "plt.plot(range(len(record_loss_train)), record_loss_train, label=\"Train\")\n",
        "plt.plot(range(len(record_loss_test)), record_loss_test, label=\"Test\")\n",
        "plt.legend()\n",
        "\n",
        "plt.xlabel(\"Epochs\")\n",
        "plt.ylabel(\"Error\")\n",
        "plt.show()"
      ],
      "execution_count": null,
      "outputs": []
    },
    {
      "cell_type": "markdown",
      "metadata": {
        "id": "iMrpac0m4Nct"
      },
      "source": [
        "## 正解率\n",
        "モデルの性能を把握するため、テストデータ使い正解率を測定します。  "
      ]
    },
    {
      "cell_type": "code",
      "metadata": {
        "id": "IRkGCYMM_N35"
      },
      "source": [
        "correct = 0\n",
        "total = 0\n",
        "net.eval()  # 評価モード\n",
        "for i, (x, t) in enumerate(test_loader):\n",
        "    x, t = x.cuda(), t.cuda()  # GPU対応\n",
        "    y = net(x)\n",
        "    correct += (y.argmax(1) == t).sum().item()\n",
        "    total += len(x)\n",
        "print(\"正解率:\", str(correct/total*100) + \"%\")"
      ],
      "execution_count": null,
      "outputs": []
    },
    {
      "cell_type": "markdown",
      "metadata": {
        "id": "LrRAJzwD4zpN"
      },
      "source": [
        "## 訓練済みのモデルを使った予測\n",
        "訓練済みのモデルを使ってみましょう。  \n",
        "画像を入力し、モデルが機能していることを確かめます。"
      ]
    },
    {
      "cell_type": "code",
      "metadata": {
        "id": "Pdy9nPckTDik"
      },
      "source": [
        "cifar10_classes = [\"airplane\", \"automobile\", \"bird\",\n",
        "                   \"cat\", \"deer\", \"dog\", \"frog\",\n",
        "                   \"horse\", \"ship\", \"truck\"]\n",
        "\n",
        "cifar10_loader = DataLoader(cifar10_test, batch_size=1, shuffle=True)\n",
        "dataiter = iter(cifar10_loader)\n",
        "images, labels = dataiter.next()  # サンプルを1つだけ取り出す\n",
        "\n",
        "plt.imshow(images[0].permute(1, 2, 0))  # 一番後の次元をチャンネルに\n",
        "plt.tick_params(labelbottom=False, labelleft=False, bottom=False, left=False)  # ラベルとメモリを非表示に\n",
        "plt.show()\n",
        "\n",
        "net.eval()  # 評価モード\n",
        "x, t = images.cuda(), labels.cuda()  # GPU対応\n",
        "y = net(x)\n",
        "print(\"正解:\", cifar10_classes[labels[0]],\n",
        "      \"予測結果:\", cifar10_classes[y.argmax().item()])"
      ],
      "execution_count": null,
      "outputs": []
    }
  ]
}