{
  "nbformat": 4,
  "nbformat_minor": 0,
  "metadata": {
    "colab": {
      "provenance": [],
      "authorship_tag": "ABX9TyOqDQRMdOfO0UrcPDH0/wSL",
      "include_colab_link": true
    },
    "kernelspec": {
      "name": "python3",
      "display_name": "Python 3"
    },
    "language_info": {
      "name": "python"
    }
  },
  "cells": [
    {
      "cell_type": "markdown",
      "metadata": {
        "id": "view-in-github",
        "colab_type": "text"
      },
      "source": [
        "<a href=\"https://colab.research.google.com/github/yukinaga/image_classification/blob/main/section_2/01_data_augmentation.ipynb\" target=\"_parent\"><img src=\"https://colab.research.google.com/assets/colab-badge.svg\" alt=\"Open In Colab\"/></a>"
      ]
    },
    {
      "cell_type": "markdown",
      "metadata": {
        "id": "HWC_y_52fJZ2"
      },
      "source": [
        "# データ拡張\n",
        "データ拡張では、汎化性能の向上のために画像の「水増し」を行います。  \n",
        "今回は、`torchvision.transforms`を使い、回転、拡大/縮小などによるデータ拡張のデモを行います。   \n",
        "  \n",
        "`torchvision.transforms`は様々なデータの変形を用意しています。  \n",
        "興味のある方は、公式ドキュメントを読んでみましょう。  \n",
        "https://pytorch.org/vision/stable/transforms.html"
      ]
    },
    {
      "cell_type": "markdown",
      "metadata": {
        "id": "jpMObJX-c6CW"
      },
      "source": [
        "## CIFAR-10\n",
        "今回のデモには、CIFAR-10というデータセットを使います。  \n",
        "CIFARは、以下の特徴を持ちます。  \n",
        "\n",
        "* 約6万枚のラベル付き画像\n",
        "* RGBカラー\n",
        "* ラベルはairplaneやautomobileなどの乗り物と、birdやcatなどの動物\n",
        "* 画像サイズは32×32\n",
        "  \n",
        "以下のコードは、`torchvision.datasets`を使ってCIFAR-10を読み込み、ランダムな36枚の画像を表示します。"
      ]
    },
    {
      "cell_type": "code",
      "metadata": {
        "id": "CbolmAveUtJ4"
      },
      "source": [
        "from torchvision.datasets import CIFAR10\n",
        "import torchvision.transforms as transforms\n",
        "from torch.utils.data import DataLoader\n",
        "import matplotlib.pyplot as plt\n",
        "\n",
        "cifar10_data = CIFAR10(root=\"./data\",\n",
        "                       train=False,download=True,\n",
        "                       transform=transforms.ToTensor())\n",
        "cifar10_classes = [\"airplane\", \"automobile\", \"bird\",\n",
        "                   \"cat\", \"deer\", \"dog\", \"frog\",\n",
        "                   \"horse\", \"ship\", \"truck\"]\n",
        "print(\"データの数:\", len(cifar10_data))\n",
        "\n",
        "n_image = 36  # 表示する画像の数\n",
        "cifar10_loader = DataLoader(cifar10_data, batch_size=n_image, shuffle=True)\n",
        "dataiter = iter(cifar10_loader)  # イテレータ: 要素を順番に取り出す\n",
        "images, labels = next(dataiter)  # 最初のバッチ\n",
        "\n",
        "plt.figure(figsize=(12,12))  # 画像の表示サイズ\n",
        "for i in range(n_image):\n",
        "    ax = plt.subplot(6, 6 ,i+1)\n",
        "    ax.imshow(images[i].permute(1, 2, 0))  # 一番後の次元をチャンネルに\n",
        "    label = cifar10_classes[labels[i]]\n",
        "    ax.set_title(label)\n",
        "    ax.get_xaxis().set_visible(False)  # 軸を非表示に\n",
        "    ax.get_yaxis().set_visible(False)\n",
        "\n",
        "plt.show()"
      ],
      "execution_count": null,
      "outputs": []
    },
    {
      "cell_type": "markdown",
      "metadata": {
        "id": "24KV93msd3i-"
      },
      "source": [
        "## 回転とリサイズ\n",
        "`transforms.RandomAffine()`を使って、画像に-45〜45°の範囲の回転、および0.5〜1.5倍の範囲のリサイズを加えます。    "
      ]
    },
    {
      "cell_type": "code",
      "metadata": {
        "id": "TVWgInj2luno"
      },
      "source": [
        "transform = transforms.Compose([transforms.RandomAffine((-45, 45), scale=(0.5, 1.5)),  # 回転とリサイズ\n",
        "                                transforms.ToTensor()])\n",
        "cifar10_data = CIFAR10(root=\"./data\",\n",
        "                       train=False,download=True,\n",
        "                       transform=transform)\n",
        "\n",
        "cifar10_loader = DataLoader(cifar10_data, batch_size=n_image, shuffle=True)\n",
        "dataiter = iter(cifar10_loader)\n",
        "images, labels = next(dataiter)\n",
        "\n",
        "plt.figure(figsize=(12,12))  # 画像の表示サイズ\n",
        "for i in range(n_image):\n",
        "    ax = plt.subplot(6, 6, i+1)\n",
        "    ax.imshow(images[i].permute(1, 2, 0))\n",
        "    label = cifar10_classes[labels[i]]\n",
        "    ax.set_title(label)\n",
        "    ax.get_xaxis().set_visible(False)\n",
        "    ax.get_yaxis().set_visible(False)\n",
        "    \n",
        "plt.show()"
      ],
      "execution_count": null,
      "outputs": []
    },
    {
      "cell_type": "markdown",
      "metadata": {
        "id": "2K6ei7g0R542"
      },
      "source": [
        "## シフト\n",
        "`transforms.RandomAffine()`を使って、画像サイズの0.5倍以内のシフトを、水平方向、垂直方向それぞれに加えます。   "
      ]
    },
    {
      "cell_type": "code",
      "metadata": {
        "id": "mk0PYfSmR543"
      },
      "source": [
        "transform = transforms.Compose([transforms.RandomAffine((0, 0), translate=(0.5, 0.5)),  # 上下左右へのシフト\n",
        "                                transforms.ToTensor()])\n",
        "cifar10_data = CIFAR10(root=\"./data\",\n",
        "                       train=False,download=True,\n",
        "                       transform=transform)\n",
        "\n",
        "cifar10_loader = DataLoader(cifar10_data, batch_size=n_image, shuffle=True)\n",
        "dataiter = iter(cifar10_loader)\n",
        "images, labels = next(dataiter)\n",
        "\n",
        "plt.figure(figsize=(12,12))  # 画像の表示サイズ\n",
        "for i in range(n_image):\n",
        "    ax = plt.subplot(6, 6, i+1)\n",
        "    ax.imshow(images[i].permute(1, 2, 0))\n",
        "    label = cifar10_classes[labels[i]]\n",
        "    ax.set_title(label)\n",
        "    ax.get_xaxis().set_visible(False)\n",
        "    ax.get_yaxis().set_visible(False)\n",
        "    \n",
        "plt.show()"
      ],
      "execution_count": null,
      "outputs": []
    },
    {
      "cell_type": "markdown",
      "metadata": {
        "id": "zG7xEjpfU8U-"
      },
      "source": [
        "## 反転\n",
        "`transforms.RandomHorizontalFlip()`と`transforms.RandomVerticalFlip()`を使って、画像に、水平方向、垂直方向それぞれ0.5の確率（`p=0.5`）で反転をランダムに加えます。  "
      ]
    },
    {
      "cell_type": "code",
      "metadata": {
        "id": "foclfneAU8U_"
      },
      "source": [
        "transform = transforms.Compose([transforms.RandomHorizontalFlip(p=0.5),  # 左右反転\n",
        "                                transforms.RandomVerticalFlip(p=0.5),  # 上下反転\n",
        "                                transforms.ToTensor()])\n",
        "cifar10_data = CIFAR10(root=\"./data\",\n",
        "                       train=False,download=True,\n",
        "                       transform=transform)\n",
        "\n",
        "cifar10_loader = DataLoader(cifar10_data, batch_size=n_image, shuffle=True)\n",
        "dataiter = iter(cifar10_loader)\n",
        "images, labels = next(dataiter)\n",
        "\n",
        "plt.figure(figsize=(12,12))  # 画像の表示サイズ\n",
        "for i in range(n_image):\n",
        "    ax = plt.subplot(6, 6, i+1)\n",
        "    ax.imshow(images[i].permute(1, 2, 0))\n",
        "    label = cifar10_classes[labels[i]]\n",
        "    ax.set_title(label)\n",
        "    ax.get_xaxis().set_visible(False)\n",
        "    ax.get_yaxis().set_visible(False)\n",
        "    \n",
        "plt.show()"
      ],
      "execution_count": null,
      "outputs": []
    },
    {
      "cell_type": "markdown",
      "metadata": {
        "id": "ERHGGvmqW2fp"
      },
      "source": [
        "## 一部を消去\n",
        "`transforms.RandomErasing()`を使って、画像の一部を0.5の確率（`p=0.5`）で消去します。  "
      ]
    },
    {
      "cell_type": "code",
      "metadata": {
        "id": "KVVyt9-oW2fz"
      },
      "source": [
        "transform = transforms.Compose([transforms.ToTensor(),\n",
        "                                transforms.RandomErasing(p=0.5)])  # 一部を消去\n",
        "cifar10_data = CIFAR10(root=\"./data\",\n",
        "                       train=False,download=True,\n",
        "                       transform=transform)\n",
        "\n",
        "cifar10_loader = DataLoader(cifar10_data, batch_size=n_image, shuffle=True)\n",
        "dataiter = iter(cifar10_loader)\n",
        "images, labels = next(dataiter)\n",
        "\n",
        "plt.figure(figsize=(12,12))  # 画像の表示サイズ\n",
        "for i in range(n_image):\n",
        "    ax = plt.subplot(6, 6, i+1)\n",
        "    ax.imshow(images[i].permute(1, 2, 0))\n",
        "    label = cifar10_classes[labels[i]]\n",
        "    ax.set_title(label)\n",
        "    ax.get_xaxis().set_visible(False)\n",
        "    ax.get_yaxis().set_visible(False)\n",
        "    \n",
        "plt.show()"
      ],
      "execution_count": null,
      "outputs": []
    },
    {
      "cell_type": "markdown",
      "source": [
        "`transforms.RandomErasing()`はTensorにしか適用できないので、`transforms.ToTensor()`以降に記述します。  "
      ],
      "metadata": {
        "id": "qUHxxBSsW2f0"
      }
    }
  ]
}