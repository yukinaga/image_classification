{
  "nbformat": 4,
  "nbformat_minor": 0,
  "metadata": {
    "colab": {
      "name": "01_tensor.ipynb",
      "provenance": [],
      "collapsed_sections": [],
      "authorship_tag": "ABX9TyMHdtWgT78bQQ9mNlU7BioR",
      "include_colab_link": true
    },
    "kernelspec": {
      "name": "python3",
      "display_name": "Python 3"
    },
    "language_info": {
      "name": "python"
    }
  },
  "cells": [
    {
      "cell_type": "markdown",
      "metadata": {
        "id": "view-in-github",
        "colab_type": "text"
      },
      "source": [
        "<a href=\"https://colab.research.google.com/github/yukinaga/image_classification/blob/main/section_1/01_tensor.ipynb\" target=\"_parent\"><img src=\"https://colab.research.google.com/assets/colab-badge.svg\" alt=\"Open In Colab\"/></a>"
      ]
    },
    {
      "cell_type": "markdown",
      "metadata": {
        "id": "qBeK8bWc4a_9"
      },
      "source": [
        "# Tensor\n",
        "TensorはPyTorchにおいて最も基本となるデータ構造です。  \n",
        "Tensorを操作するための様々なコードを、Google Colacoratoryで練習しましょう。"
      ]
    },
    {
      "cell_type": "markdown",
      "metadata": {
        "id": "ztIkOM_N5Bu7"
      },
      "source": [
        "## PyTorchの確認\n",
        "環境にインストール済みのパッケージを全て表示し、「torch」という名前でPyTorchがインストールされていることを確認します。"
      ]
    },
    {
      "cell_type": "code",
      "metadata": {
        "id": "SLrzxL39qGie"
      },
      "source": [
        "!pip list"
      ],
      "execution_count": null,
      "outputs": []
    },
    {
      "cell_type": "markdown",
      "metadata": {
        "id": "EMC135bx6E3u"
      },
      "source": [
        "## Tensorを生成する\n",
        "以下のコードは、torchの`tensor()`関数により、PythonのリストからTensorを生成します。    \n",
        "type()により型の確認も行います。  "
      ]
    },
    {
      "cell_type": "code",
      "metadata": {
        "id": "xCg7mgXPqBc8"
      },
      "source": [
        "import torch\n",
        "\n",
        "a = torch.tensor([12,13,14])\n",
        "print(a, type(a))"
      ],
      "execution_count": null,
      "outputs": []
    },
    {
      "cell_type": "markdown",
      "metadata": {
        "id": "6LcfIq4nWfG2"
      },
      "source": [
        "以下は、他の生成方法です。"
      ]
    },
    {
      "cell_type": "code",
      "metadata": {
        "id": "3X2TN2rYtCTO"
      },
      "source": [
        "print(\"--- 2次元のリストから生成 ---\")\n",
        "b = torch.tensor([[11, 12],\n",
        "                  [13, 14]])\n",
        "print(b)\n",
        "\n",
        "print(\"--- dypeを指定し、倍精度のTensorにする ---\")\n",
        "c = torch.tensor([[11, 12],\n",
        "                  [13, 14]], dtype=torch.float64)\n",
        "print(c)\n",
        "\n",
        "print(\"--- 0から19までの数値で初期化 ---\")\n",
        "d = torch.arange(0, 20)\n",
        "print(d)\n",
        "\n",
        "print(\"--- すべての値が0の、3×4のTensor ---\")\n",
        "e = torch.zeros(3, 4)\n",
        "print(e)\n",
        "\n",
        "print(\"--- すべての値が乱数の、3×4のTensor ---\")\n",
        "f = torch.rand(3, 4)\n",
        "print(f)\n",
        "\n",
        "print(\"--- 形状はsizeメソッドで取得 ---\")\n",
        "print(f.size())"
      ],
      "execution_count": null,
      "outputs": []
    },
    {
      "cell_type": "markdown",
      "metadata": {
        "id": "b-TrDK5qewJp"
      },
      "source": [
        "## TensorとNumPyの配列の相互変換\n",
        "機械学習では、数値演算ライブラリNumPyの配列がよく使われます。  \n",
        "以下は、TensorとNumPyの相互変換のコードです。  "
      ]
    },
    {
      "cell_type": "code",
      "metadata": {
        "id": "VdQc9-L5gBFZ"
      },
      "source": [
        "print(\"--- Tensor → NumPy ---\")\n",
        "a = torch.tensor([[11, 12],\n",
        "                  [13, 14]])\n",
        "b = a.numpy()\n",
        "print(b)\n",
        "\n",
        "print(\"--- NumPy → Tensor ---\")\n",
        "c = torch.from_numpy(b)\n",
        "print(c)"
      ],
      "execution_count": null,
      "outputs": []
    },
    {
      "cell_type": "markdown",
      "metadata": {
        "id": "CgpWSmhXnas_"
      },
      "source": [
        "## 範囲を指定してアクセス\n",
        "Tensorの一部に、範囲を指定してアクセスすることができます。"
      ]
    },
    {
      "cell_type": "code",
      "metadata": {
        "id": "MgWk6RXMoX_l"
      },
      "source": [
        "a = torch.tensor([[11, 12, 13],\n",
        "                  [14, 15, 16]])\n",
        "\n",
        "print(\"--- 2つのインデックスを指定 ---\")\n",
        "print(a[0, 1])\n",
        "\n",
        "print(\"--- 範囲を指定 ---\")\n",
        "print(a[1:2, :2])\n",
        "\n",
        "print(\"--- 3より大きい要素のみを指定 ---\")\n",
        "print(a[a>3])\n",
        "\n",
        "print(\"--- 要素の変更 ---\")\n",
        "a[0, 2] = 11\n",
        "print(a)\n",
        "\n",
        "print(\"--- ある次元の要素を一括変更 ---\")\n",
        "a[:, 1] = 22\n",
        "print(a)"
      ],
      "execution_count": null,
      "outputs": []
    },
    {
      "cell_type": "markdown",
      "metadata": {
        "id": "2HQMM_Fh02of"
      },
      "source": [
        "## Tensorの演算\n",
        "以下は、Tensor同士の演算の例です。"
      ]
    },
    {
      "cell_type": "code",
      "metadata": {
        "id": "AQ5IsU0Fz-DJ"
      },
      "source": [
        "# ベクトル\n",
        "a = torch.tensor([11, 12, 13]) \n",
        "b = torch.tensor([14, 15, 16])\n",
        "\n",
        "# 行列\n",
        "c = torch.tensor([[16, 15, 14],\n",
        "                  [13, 12, 11]])\n",
        "\n",
        "print(\"--- ベクトルとスカラーの演算 ---\")\n",
        "print(a + 3)\n",
        "\n",
        "print(\"--- ベクトル同士の演算 ---\")\n",
        "print(a + b) \n",
        "\n",
        "print(\"--- 行列とスカラーの演算 ---\")\n",
        "print(c + 2)\n",
        "\n",
        "print(\"--- 行列とベクトルの演算（ブロードキャスト） ---\")\n",
        "print(c + a)\n",
        "\n",
        "print(\"--- 行列同士の演算 ---\")\n",
        "print(c + c)"
      ],
      "execution_count": null,
      "outputs": []
    },
    {
      "cell_type": "markdown",
      "source": [
        "ブロードキャストは、条件を満たしていれば形状が異なるTensor同士でも演算が可能になる機能です。"
      ],
      "metadata": {
        "id": "op7j4u0HR8YY"
      }
    },
    {
      "cell_type": "markdown",
      "metadata": {
        "id": "C1otpuXxCb84"
      },
      "source": [
        "## Tensorの形状変換\n",
        "`view()`を使えば、Tensorの形状を自由に変更することができます。"
      ]
    },
    {
      "cell_type": "code",
      "source": [
        "a = torch.tensor([0, 1, 2, 3, 4, 5, 6, 7, 8, 9, 10 ,11])  # 1次元のTensor\n",
        "b = a.view(3, 4)  # (3, 4)の2次元のTensorに変換\n",
        "print(b)"
      ],
      "metadata": {
        "id": "-4lOt6alFDfZ"
      },
      "execution_count": null,
      "outputs": []
    },
    {
      "cell_type": "markdown",
      "source": [
        "引数のうち1つを-1にすれば、その次元の要素数は自動計算されます。  "
      ],
      "metadata": {
        "id": "UKoNGKogFAW-"
      }
    },
    {
      "cell_type": "code",
      "source": [
        "c = torch.tensor([0, 1, 2, 3, 4, 5, 6, 7, 8, 9, 10 ,11])  # 1次元のTensor\n",
        "d = c.view(3, -1)  # (3, 4)の2次元のTensorに変換\n",
        "print(d)"
      ],
      "metadata": {
        "id": "zww6M6npGj6D"
      },
      "execution_count": null,
      "outputs": []
    },
    {
      "cell_type": "markdown",
      "source": [
        "`view()`の引数を-1のみにすると、1次元に変換されます。  "
      ],
      "metadata": {
        "id": "aY6BFdhrIhOH"
      }
    },
    {
      "cell_type": "code",
      "source": [
        "e = torch.tensor([[[11, 12],\n",
        "                   [13, 14]], \n",
        "                  [[15, 16],\n",
        "                   [17, 18]]])  # 3次元のTensor\n",
        "print(e)\n",
        "f = e.view(-1)  # 1次元のTensorに変換\n",
        "print(f)"
      ],
      "metadata": {
        "id": "m2WviA82IhOI"
      },
      "execution_count": null,
      "outputs": []
    },
    {
      "cell_type": "markdown",
      "metadata": {
        "id": "r0S-nN_c8MKr"
      },
      "source": [
        "## 統計値の計算\n",
        "Tensorには、様々な統計値を計算する関数とメソッドが用意されています。  \n",
        "Tensorから通常の値を取り出すためには、`item()`メソッドを使います。\n"
      ]
    },
    {
      "cell_type": "code",
      "metadata": {
        "id": "X_LIWIwI59rI"
      },
      "source": [
        "a = torch.tensor([[11, 12, 13],\n",
        "                  [14, 15, 16.]])\n",
        "\n",
        "print(\"--- 平均値（関数） ---\")\n",
        "m = torch.mean(a)\n",
        "print(m.item())  # item()で値を取り出す\n",
        "\n",
        "print(\"--- 平均値（メソッド） ---\")\n",
        "m = a.mean()\n",
        "print(m.item())\n",
        "\n",
        "print(\"--- 列ごとの平均値 ---\")\n",
        "print(a.mean(0))\n",
        "\n",
        "print(\"--- 合計値 ---\")\n",
        "print(torch.sum(a).item())\n",
        "\n",
        "print(\"--- 最大値 ---\")\n",
        "print(torch.max(a).item())\n",
        "\n",
        "print(\"--- 最小値 ---\")\n",
        "print(torch.min(a).item())"
      ],
      "execution_count": null,
      "outputs": []
    },
    {
      "cell_type": "markdown",
      "source": [
        "今回扱ったTensorの機能はごく一部です。  \n",
        "詳しくは、以下の公式ドキュメントを参考にしてください。  \n",
        "https://pytorch.org/docs/stable/tensors.html"
      ],
      "metadata": {
        "id": "jYlvxRRcDqTa"
      }
    }
  ]
}