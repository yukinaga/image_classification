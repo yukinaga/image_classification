{
  "nbformat": 4,
  "nbformat_minor": 0,
  "metadata": {
    "colab": {
      "name": "02_exercise.ipynb",
      "provenance": [],
      "collapsed_sections": [],
      "authorship_tag": "ABX9TyMxO9hS1zzHAL995I+28SD5",
      "include_colab_link": true
    },
    "kernelspec": {
      "name": "python3",
      "display_name": "Python 3"
    },
    "language_info": {
      "name": "python"
    }
  },
  "cells": [
    {
      "cell_type": "markdown",
      "metadata": {
        "id": "view-in-github",
        "colab_type": "text"
      },
      "source": [
        "<a href=\"https://colab.research.google.com/github/yukinaga/image_classification/blob/main/section_1/02_exercise.ipynb\" target=\"_parent\"><img src=\"https://colab.research.google.com/assets/colab-badge.svg\" alt=\"Open In Colab\"/></a>"
      ]
    },
    {
      "cell_type": "markdown",
      "metadata": {
        "id": "l1iDDDhCGdRk"
      },
      "source": [
        "# 演習\n",
        "Tensor同士の演算を練習しましょう。  "
      ]
    },
    {
      "cell_type": "markdown",
      "source": [
        "## Tensor同士の演算\n",
        "以下のコードにおけるTensor、`a`と`b`の間で演算を行い、結果を表示しましょう。  \n",
        "`a`は2次元のTensorで`b`は1次元のTensorなので、ブロードキャストが必要です。  "
      ],
      "metadata": {
        "id": "Jc1YsICDjmgv"
      }
    },
    {
      "cell_type": "code",
      "metadata": {
        "id": "vQjm5IIwFzfQ"
      },
      "source": [
        "import torch\n",
        "\n",
        "a = torch.tensor([[11, 12, 13],\n",
        "                  [14, 15, 16]])\n",
        "b = torch.tensor([1, 2, 3]) \n",
        "\n",
        "print(\"--- 和 ---\")\n",
        "\n",
        "\n",
        "print(\"--- 差 ---\")\n",
        "\n",
        "\n",
        "print(\"--- 積 ---\")\n",
        "\n",
        "\n",
        "print(\"--- 商（小数） ---\")\n",
        "\n",
        "\n",
        "print(\"--- 商（整数） ---\")\n",
        "\n",
        "\n",
        "print(\"--- 余り ---\")\n"
      ],
      "execution_count": null,
      "outputs": []
    },
    {
      "cell_type": "markdown",
      "metadata": {
        "id": "BEW_lUs3PJCQ"
      },
      "source": [
        "### 〇解答例\n",
        "以下は解答例です。"
      ]
    },
    {
      "cell_type": "code",
      "metadata": {
        "id": "imyJ_CUEPNgW"
      },
      "source": [
        "import torch\n",
        "\n",
        "a = torch.tensor([[11, 12, 13],\n",
        "                  [14, 15, 16]])\n",
        "b = torch.tensor([1, 2, 3]) \n",
        "\n",
        "print(\"--- 和 ---\")\n",
        "print(a + b)\n",
        "\n",
        "print(\"--- 差 ---\")\n",
        "print(a - b)\n",
        "\n",
        "print(\"--- 積 ---\")\n",
        "print(a * b)\n",
        "\n",
        "print(\"--- 商（小数） ---\")\n",
        "print(a / b)\n",
        "\n",
        "print(\"--- 商（整数） ---\")\n",
        "print(a // b)\n",
        "\n",
        "print(\"--- 余り ---\")\n",
        "print(a % b)"
      ],
      "execution_count": null,
      "outputs": []
    }
  ]
}