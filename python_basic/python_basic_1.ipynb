{
  "nbformat": 4,
  "nbformat_minor": 0,
  "metadata": {
    "colab": {
      "name": "python_basic_1.ipynb",
      "provenance": [],
      "collapsed_sections": [],
      "authorship_tag": "ABX9TyN9sAbXgOfuA10FQ+oF1BmI",
      "include_colab_link": true
    },
    "kernelspec": {
      "name": "python3",
      "display_name": "Python 3"
    }
  },
  "cells": [
    {
      "cell_type": "markdown",
      "metadata": {
        "id": "view-in-github",
        "colab_type": "text"
      },
      "source": [
        "<a href=\"https://colab.research.google.com/github/yukinaga/minnano_ai/blob/master/section_2/python_basic_1.ipynb\" target=\"_parent\"><img src=\"https://colab.research.google.com/assets/colab-badge.svg\" alt=\"Open In Colab\"/></a>"
      ]
    },
    {
      "cell_type": "markdown",
      "metadata": {
        "id": "QK1qtAbx7DCH",
        "colab_type": "text"
      },
      "source": [
        "# Pythonの基礎1\n",
        " プログラミング言語Pythonの文法を、手を動かしながら少しずつ学んでいきましょう。  \n",
        "解説用のコードセルの下に練習用のコードセルがありますので、コードを書く体験とともに進めていくことをお勧めします。  \n",
        "なお、今回の解説がPythonの全てをカバーしているわけではありませんのでご注意ください。"
      ]
    },
    {
      "cell_type": "markdown",
      "metadata": {
        "id": "vShhk5xk7L6w",
        "colab_type": "text"
      },
      "source": [
        "## ● 変数\n",
        "**変数**には**値**を入れることができます。  \n",
        "以下の例では、変数`a`に123という値を入れています。  \n",
        "`print(a)`で、変数`a`に入った値を表示することができます。"
      ]
    },
    {
      "cell_type": "code",
      "metadata": {
        "id": "h7HH2NJB7DCJ",
        "colab_type": "code",
        "colab": {}
      },
      "source": [
        "a = 123\n",
        "print(a)"
      ],
      "execution_count": null,
      "outputs": []
    },
    {
      "cell_type": "code",
      "metadata": {
        "id": "G2cA1xc4CZ8_",
        "colab_type": "code",
        "colab": {}
      },
      "source": [
        "# 練習用\n"
      ],
      "execution_count": null,
      "outputs": []
    },
    {
      "cell_type": "markdown",
      "metadata": {
        "id": "PZg4iHpxnAyC",
        "colab_type": "text"
      },
      "source": [
        "なお、`#`以降の記述はコメントとなり、プログラムとして認識されません。メモなどに活用しましょう。  \n",
        "変数には小数の値を入れることもできます。  \n",
        "以下では、`b`に123.45という小数の値を入れています。  "
      ]
    },
    {
      "cell_type": "code",
      "metadata": {
        "id": "6566lYEEsNJh",
        "colab_type": "code",
        "colab": {}
      },
      "source": [
        "b = 123.45\n",
        "print(b)"
      ],
      "execution_count": null,
      "outputs": []
    },
    {
      "cell_type": "code",
      "metadata": {
        "id": "bgMti6leFZn9",
        "colab_type": "code",
        "colab": {}
      },
      "source": [
        "# 練習用\n"
      ],
      "execution_count": null,
      "outputs": []
    },
    {
      "cell_type": "markdown",
      "metadata": {
        "id": "extlg0l1rx2z",
        "colab_type": "text"
      },
      "source": [
        "変数には文章を入れることもできます。  \n",
        "`\"\"`もしくは`''` で囲まれた文章は文字列として認識され、値として変数に入れることができます。  \n"
      ]
    },
    {
      "cell_type": "code",
      "metadata": {
        "id": "yMwbxO3GLIC6",
        "colab_type": "code",
        "colab": {}
      },
      "source": [
        "c = \"こんにちは、Python！\"\n",
        "print(c)"
      ],
      "execution_count": null,
      "outputs": []
    },
    {
      "cell_type": "code",
      "metadata": {
        "id": "p3DojhtkLUYK",
        "colab_type": "code",
        "colab": {}
      },
      "source": [
        "# 練習用\n"
      ],
      "execution_count": null,
      "outputs": []
    },
    {
      "cell_type": "markdown",
      "metadata": {
        "id": "WteivqoSJxEu",
        "colab_type": "text"
      },
      "source": [
        "変数名には、アルファベットの他に`_`（アンダーバー）や数字を使うこともできます。  \n",
        "ただし、変数名の先頭を数字にすることはできません。  "
      ]
    },
    {
      "cell_type": "code",
      "metadata": {
        "id": "9-dHbPsYJ_jS",
        "colab_type": "code",
        "colab": {}
      },
      "source": [
        "dog_name = \"Pochi\"\n",
        "print(dog_name)\n",
        "\n",
        "number321 = 321\n",
        "print(number321)"
      ],
      "execution_count": null,
      "outputs": []
    },
    {
      "cell_type": "code",
      "metadata": {
        "id": "HYh2U2NKM_GY",
        "colab_type": "code",
        "colab": {}
      },
      "source": [
        "# 練習用\n"
      ],
      "execution_count": null,
      "outputs": []
    },
    {
      "cell_type": "markdown",
      "metadata": {
        "id": "jd_BuH8D7DCM",
        "colab_type": "text"
      },
      "source": [
        "このような変数の概念は、以降Pythonを学んでいくための基盤となります。"
      ]
    },
    {
      "cell_type": "markdown",
      "metadata": {
        "id": "AioPKJ3q7DCU",
        "colab_type": "text"
      },
      "source": [
        "## ● 四則演算\n",
        "様々な演算子を使って四則演算を行うことができます。"
      ]
    },
    {
      "cell_type": "code",
      "metadata": {
        "id": "hYmGSfid7DCU",
        "colab_type": "code",
        "colab": {}
      },
      "source": [
        "a = 7\n",
        "b = 3\n",
        "\n",
        "c = a + b  # 足し算\n",
        "print(c)\n",
        "\n",
        "d = a - b  # 引き算\n",
        "print(d)\n",
        "\n",
        "e = a * b  # 掛け算\n",
        "print(e)\n",
        "\n",
        "f = a / b  # 割り算（小数）\n",
        "print(f)\n",
        "\n",
        "g = a // b  # 割り算（整数）\n",
        "print(g)\n",
        "\n",
        "h = a % b  # 余り\n",
        "print(h)"
      ],
      "execution_count": null,
      "outputs": []
    },
    {
      "cell_type": "code",
      "metadata": {
        "id": "QmgKAo4dNlA_",
        "colab_type": "code",
        "colab": {}
      },
      "source": [
        "# 練習用\n"
      ],
      "execution_count": null,
      "outputs": []
    },
    {
      "cell_type": "markdown",
      "metadata": {
        "id": "D4BOaxpW7DCW",
        "colab_type": "text"
      },
      "source": [
        "上記で使用した演算子を以下にまとめます。\n",
        "\n",
        "||||\n",
        "|:-:|:-:|:--|\n",
        "|| \\+ | 足し算 |\n",
        "||- | 引き算 |\n",
        "|| * | かける |\n",
        "|| / | 割る（小数） |\n",
        "|| // | 割る（整数） |\n",
        "|| % | 余り |\n",
        "||||\n",
        "\n",
        "なお、`+`の演算子は文字列の結合に使うこともできます。"
      ]
    },
    {
      "cell_type": "code",
      "metadata": {
        "id": "tPQ7XddGQRg1",
        "colab_type": "code",
        "colab": {}
      },
      "source": [
        "a = \"Hello\"\n",
        "b = \"World\"\n",
        "\n",
        "c = a + b\n",
        "print(c)"
      ],
      "execution_count": null,
      "outputs": []
    },
    {
      "cell_type": "code",
      "metadata": {
        "id": "5fMSkwA9Qc8F",
        "colab_type": "code",
        "colab": {}
      },
      "source": [
        "# 練習用\n"
      ],
      "execution_count": null,
      "outputs": []
    },
    {
      "cell_type": "markdown",
      "metadata": {
        "id": "Ff52sxFiQ5mG",
        "colab_type": "text"
      },
      "source": [
        "## ● Bool値と比較演算子\n",
        "変数には`True`もしくは`False`の値を入れることができます。  \n",
        "これらの値は、**Bool値**と呼ばれます。  \n",
        "Bool値は`True`もしくは`False`のどちらかしかとることができません。"
      ]
    },
    {
      "cell_type": "code",
      "metadata": {
        "id": "sUzagn13Q-WJ",
        "colab_type": "code",
        "colab": {}
      },
      "source": [
        "a = True\n",
        "b = False\n",
        "\n",
        "print(a)\n",
        "print(b)"
      ],
      "execution_count": null,
      "outputs": []
    },
    {
      "cell_type": "code",
      "metadata": {
        "id": "0y-SCphVbDPa",
        "colab_type": "code",
        "colab": {}
      },
      "source": [
        "# 練習用\n"
      ],
      "execution_count": null,
      "outputs": []
    },
    {
      "cell_type": "markdown",
      "metadata": {
        "id": "xynAyE7bbIXO",
        "colab_type": "text"
      },
      "source": [
        "**比較演算子**を使うことで、値を比較した結果をBool値として得ることができます。  \n",
        "`>`や`<`などの比較演算子は、左右の値を比較します。  \n"
      ]
    },
    {
      "cell_type": "code",
      "metadata": {
        "id": "JPnYBd6675IK",
        "colab_type": "code",
        "colab": {}
      },
      "source": [
        "c = 3\n",
        "d = 4\n",
        "\n",
        "e = c > d  # cがdよりも大きいかどうか\n",
        "print(e)\n",
        "\n",
        "f = c < d  # cがdよりも小さいかどうか\n",
        "print(f)\n",
        "\n",
        "g = c >= d  # cがd以上かどうか\n",
        "print(g)\n",
        "\n",
        "h = c <= d  # cがd以下かどうか\n",
        "print(h)\n",
        "\n",
        "i = c == d  # cとdが等しいかどうか\n",
        "print(i)\n",
        "\n",
        "j = c != d  # cとdが等しくないか\n",
        "print(j)"
      ],
      "execution_count": null,
      "outputs": []
    },
    {
      "cell_type": "code",
      "metadata": {
        "id": "74vLCh-THt4B",
        "colab_type": "code",
        "colab": {}
      },
      "source": [
        "# 練習用\n"
      ],
      "execution_count": null,
      "outputs": []
    },
    {
      "cell_type": "markdown",
      "metadata": {
        "id": "leSqs4xJ8g7q",
        "colab_type": "text"
      },
      "source": [
        "Pythonで使われる比較演算子を以下にまとめます。\n",
        "\n",
        "||||\n",
        "|:-:|:-:|:--|\n",
        "|| < | 小さい |\n",
        "|| > | 大きい |\n",
        "|| <= | 以上 |\n",
        "|| >= | 以下 |\n",
        "|| == | 等しい |\n",
        "|| != | 等しくない |\n",
        "||||"
      ]
    },
    {
      "cell_type": "markdown",
      "metadata": {
        "id": "D6lMp6KNIiGC",
        "colab_type": "text"
      },
      "source": [
        "## ● 論理演算子\n",
        "**論理演算子**を使うと、Bool値の演算を行うことができます。"
      ]
    },
    {
      "cell_type": "code",
      "metadata": {
        "id": "lEnQDGY6Jmt1",
        "colab_type": "code",
        "colab": {}
      },
      "source": [
        "a = 3\n",
        "b = 4\n",
        "c = 5\n",
        "\n",
        "d = a < b and b < c  # 両者がTrueであればTrue\n",
        "print(d)\n",
        "\n",
        "e = a < b or b > c  # 片方がTrueであればTrue\n",
        "print(e)\n",
        "\n",
        "f = not a < b  # Bool値を反転\n",
        "print(f)"
      ],
      "execution_count": null,
      "outputs": []
    },
    {
      "cell_type": "code",
      "metadata": {
        "id": "y0qwm9SnM6GZ",
        "colab_type": "code",
        "colab": {}
      },
      "source": [
        "# 練習用\n"
      ],
      "execution_count": null,
      "outputs": []
    },
    {
      "cell_type": "markdown",
      "metadata": {
        "id": "8cfNnbcoMUS-",
        "colab_type": "text"
      },
      "source": [
        "Pythonで使われる論理演算子を以下にまとめます。  \n",
        "\n",
        "||||\n",
        "|:-:|:-:|:--|\n",
        "|| and | 両者がTrueであればTrue |\n",
        "|| or | 片方がTrueであればTrue |\n",
        "|| not | Bool値を反転 |\n",
        "||||\n",
        "\n",
        "このような論理演算子を使うことで、複雑な条件をコードで表現することが可能になります。"
      ]
    }
  ]
}