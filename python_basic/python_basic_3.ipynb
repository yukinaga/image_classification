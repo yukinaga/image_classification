{
  "nbformat": 4,
  "nbformat_minor": 0,
  "metadata": {
    "colab": {
      "name": "python_basic_3.ipynb",
      "provenance": [],
      "collapsed_sections": [],
      "toc_visible": true,
      "authorship_tag": "ABX9TyOQ6B23Ohrb8vjbDOEezdIb",
      "include_colab_link": true
    },
    "kernelspec": {
      "name": "python3",
      "display_name": "Python 3"
    }
  },
  "cells": [
    {
      "cell_type": "markdown",
      "metadata": {
        "id": "view-in-github",
        "colab_type": "text"
      },
      "source": [
        "<a href=\"https://colab.research.google.com/github/yukinaga/minnano_ai/blob/master/section_2/python_basic_3.ipynb\" target=\"_parent\"><img src=\"https://colab.research.google.com/assets/colab-badge.svg\" alt=\"Open In Colab\"/></a>"
      ]
    },
    {
      "cell_type": "markdown",
      "metadata": {
        "id": "ewg_pUrO-m3m",
        "colab_type": "text"
      },
      "source": [
        "# Pythonの基礎3\n",
        "関数とクラス、ファイルの保存について解説します。"
      ]
    },
    {
      "cell_type": "markdown",
      "metadata": {
        "id": "BxlxFRAm-m3o",
        "colab_type": "text"
      },
      "source": [
        "## ●関数\n",
        "**関数**を用いることで、処理を一括りにして何度も呼び出すことができます。  \n",
        "以下はシンプルな関数の例です。"
      ]
    },
    {
      "cell_type": "code",
      "metadata": {
        "id": "xftbx6T4-m3p",
        "colab_type": "code",
        "colab": {}
      },
      "source": [
        "def say_hello():  # defの後に関数名を記述\n",
        "    print(\"Hello world!\")  # 行頭にインデントを挿入\n",
        "\n",
        "say_hello()  # 関数の呼び出し"
      ],
      "execution_count": null,
      "outputs": []
    },
    {
      "cell_type": "code",
      "metadata": {
        "id": "wrO8sv-WZHuo",
        "colab_type": "code",
        "colab": {}
      },
      "source": [
        "# 練習用\n"
      ],
      "execution_count": null,
      "outputs": []
    },
    {
      "cell_type": "markdown",
      "metadata": {
        "id": "L8xd1JMv-m3s",
        "colab_type": "text"
      },
      "source": [
        "一度関数を定義しておけば、あとから何度でも呼び出すことができます。"
      ]
    },
    {
      "cell_type": "code",
      "metadata": {
        "id": "-Tnd7UjE-m3t",
        "colab_type": "code",
        "colab": {}
      },
      "source": [
        "def say_gm():\n",
        "    print(\"Good morning!\")\n",
        "\n",
        "say_gm()\n",
        "say_gm()\n",
        "say_gm()"
      ],
      "execution_count": null,
      "outputs": []
    },
    {
      "cell_type": "code",
      "metadata": {
        "id": "cAZfsS-vZKeC",
        "colab_type": "code",
        "colab": {}
      },
      "source": [
        "# 練習用\n"
      ],
      "execution_count": null,
      "outputs": []
    },
    {
      "cell_type": "markdown",
      "metadata": {
        "id": "MWyBm7xfaQ1T",
        "colab_type": "text"
      },
      "source": [
        "## ●引数\n",
        "関数は、外部からの値を**引数**として受け取ることができます。  \n",
        "以下は、引数を伴うシンプルな関数です。"
      ]
    },
    {
      "cell_type": "code",
      "metadata": {
        "id": "utV0XhMAafbt",
        "colab_type": "code",
        "colab": {}
      },
      "source": [
        "def say_number(a):  # aが引数\n",
        "    print(a)\n",
        "\n",
        "say_number(123)"
      ],
      "execution_count": null,
      "outputs": []
    },
    {
      "cell_type": "code",
      "metadata": {
        "id": "RyOkPsNFaR6o",
        "colab_type": "code",
        "colab": {}
      },
      "source": [
        "# 練習用\n"
      ],
      "execution_count": null,
      "outputs": []
    },
    {
      "cell_type": "markdown",
      "metadata": {
        "id": "Z_01jL1ZgIXO",
        "colab_type": "text"
      },
      "source": [
        "関数を呼び出す際に、( ) 内に値を渡すとそれを関数が受け取ります。  \n",
        "  \n",
        "引数が複数の場合は、`,`（カンマ）で区切ります。"
      ]
    },
    {
      "cell_type": "code",
      "metadata": {
        "id": "zPN48d8gfq0Z",
        "colab_type": "code",
        "colab": {}
      },
      "source": [
        "def add(a, b, c):  # 引数は3つ\n",
        "    d = a + b + c\n",
        "    print(d)\n",
        "\n",
        "add(3, 4, 5)"
      ],
      "execution_count": null,
      "outputs": []
    },
    {
      "cell_type": "code",
      "metadata": {
        "id": "eq9RMuApiHjv",
        "colab_type": "code",
        "colab": {}
      },
      "source": [
        "# 練習用\n"
      ],
      "execution_count": null,
      "outputs": []
    },
    {
      "cell_type": "markdown",
      "metadata": {
        "id": "rmu22GA5hOHQ",
        "colab_type": "text"
      },
      "source": [
        "## ●返り値\n",
        "**返り値**を用いると、関数から外部に値を渡すことができます。  \n",
        "  \n",
        "以下は、返り値のシンプルな例です。  "
      ]
    },
    {
      "cell_type": "code",
      "metadata": {
        "id": "PuaerkxqhhnY",
        "colab_type": "code",
        "colab": {}
      },
      "source": [
        "def get_number():\n",
        "    a = 123\n",
        "    return a  # 返り値\n",
        "\n",
        "b = get_number()\n",
        "print(b)"
      ],
      "execution_count": null,
      "outputs": []
    },
    {
      "cell_type": "code",
      "metadata": {
        "id": "4rKMXPTFmH6S",
        "colab_type": "code",
        "colab": {}
      },
      "source": [
        "# 練習用\n"
      ],
      "execution_count": null,
      "outputs": []
    },
    {
      "cell_type": "markdown",
      "metadata": {
        "id": "FwOzg6qyiBSB",
        "colab_type": "text"
      },
      "source": [
        "関数の内部にreturnを記述すると、その直後の値を関数の外部に渡します。  \n",
        "  \n",
        "以下は、引数と返り値を組み合わせた例です。"
      ]
    },
    {
      "cell_type": "code",
      "metadata": {
        "id": "27VGeUNmifwo",
        "colab_type": "code",
        "colab": {}
      },
      "source": [
        "def add(a, b):\n",
        "    c = a + b\n",
        "    return c\n",
        "\n",
        "result1 = add(3, 4)\n",
        "print(result1)\n",
        "\n",
        "result2 = add(7, 8)\n",
        "print(result2)"
      ],
      "execution_count": null,
      "outputs": []
    },
    {
      "cell_type": "code",
      "metadata": {
        "id": "dDfU9UZDmwxg",
        "colab_type": "code",
        "colab": {}
      },
      "source": [
        "# 練習用\n"
      ],
      "execution_count": null,
      "outputs": []
    },
    {
      "cell_type": "markdown",
      "metadata": {
        "id": "ERD55Tt-mrqR",
        "colab_type": "text"
      },
      "source": [
        "以上のような関数を使うことで、コードの再利用が可能になります。"
      ]
    },
    {
      "cell_type": "markdown",
      "metadata": {
        "id": "DtAbWNWw-m3y",
        "colab_type": "text"
      },
      "source": [
        "## ●変数のスコープ\n",
        "関数内で定義された変数がローカル変数、関数外で定義された変数がグローバル変数です。  "
      ]
    },
    {
      "cell_type": "code",
      "metadata": {
        "id": "3pD2XU7t-m3y",
        "colab_type": "code",
        "colab": {}
      },
      "source": [
        "glob_1 = 123  # グローバル変数\n",
        "\n",
        "def show_number():\n",
        "    loc_1 = 456  # ローカル変数\n",
        "    print(glob_1, loc_1)\n",
        "    \n",
        "show_number()"
      ],
      "execution_count": null,
      "outputs": []
    },
    {
      "cell_type": "code",
      "metadata": {
        "id": "39Zt6NeVtHiK",
        "colab_type": "code",
        "colab": {}
      },
      "source": [
        "# 練習用\n"
      ],
      "execution_count": null,
      "outputs": []
    },
    {
      "cell_type": "markdown",
      "metadata": {
        "id": "j4BL7N5d-m30",
        "colab_type": "text"
      },
      "source": [
        "ローカル変数は同じ関数内からのみアクセスできますが、グローバル変数はどこからでもアクセスできます。  \n",
        "\n",
        "以下のコードでは、関数の外でローカル変数bにアクセスしようとしているため、エラーが発生します。"
      ]
    },
    {
      "cell_type": "code",
      "metadata": {
        "id": "7KOGz1gM-m31",
        "colab_type": "code",
        "colab": {}
      },
      "source": [
        "glob_2= 123 # グローバル変数\n",
        "\n",
        "def setNum():\n",
        "    loc_2 = 456 # ローカル変数\n",
        "\n",
        "setNum()\n",
        "print(glob_2, loc_2)"
      ],
      "execution_count": null,
      "outputs": []
    },
    {
      "cell_type": "code",
      "metadata": {
        "id": "f5wYs01szjlc",
        "colab_type": "code",
        "colab": {}
      },
      "source": [
        "# 練習用\n"
      ],
      "execution_count": null,
      "outputs": []
    },
    {
      "cell_type": "markdown",
      "metadata": {
        "id": "zG9VcO-6-m35",
        "colab_type": "text"
      },
      "source": [
        "## ●クラス\n",
        "**クラス**を用いると、複数の「関数のようなもの」をまとめることができます。  \n",
        "この「関数のようなもの」は、メソッドと呼ばれます。\n",
        "\n",
        "Pythonでクラスを定義するためには、`class`の表記を用います。  \n",
        "メソッドはクラス内で定義するのですが、関数と同様にdefの直後にメソッド名を記述します。    \n",
        "\n",
        "以下の例では、`Calc`クラス内に`add`メソッドが記述されています。  \n",
        "クラスから**インスタンス**を生成し、このインスタンスからメソッドを呼び出すことができます。"
      ]
    },
    {
      "cell_type": "code",
      "metadata": {
        "id": "h9YW6LdV-m36",
        "colab_type": "code",
        "colab": {}
      },
      "source": [
        "class Calc:  # Calcクラス\n",
        "    def add(self, a, b):  # addメソッド\n",
        "        print(a + b)\n",
        "\n",
        "    def multiply(self, a, b):  # multiplyメソッド\n",
        "        print(a * b)\n",
        "\n",
        "cl = Calc()  # インスタンスclを生成\n",
        "cl.add(2, 3)\n",
        "cl.multiply(4, 5)"
      ],
      "execution_count": null,
      "outputs": []
    },
    {
      "cell_type": "code",
      "metadata": {
        "id": "s-haa7_RkFGS",
        "colab_type": "code",
        "colab": {}
      },
      "source": [
        "# 練習用\n"
      ],
      "execution_count": null,
      "outputs": []
    },
    {
      "cell_type": "markdown",
      "metadata": {
        "id": "f83MEU1X-m38",
        "colab_type": "text"
      },
      "source": [
        "関数とは異なり、メソッドの最初の引数はselfと書く必要があります。  \n",
        "  \n",
        "このselfを用いて、インスタンスは値を保持することができます。    \n",
        "インスタンス内で値を保持する変数を、**インスタンス変数**といいます。    \n",
        "以下の例では、`set_number`メソッドの中でインスタンス変数を設定しています。"
      ]
    },
    {
      "cell_type": "code",
      "metadata": {
        "id": "9le-T7MT-m39",
        "colab_type": "code",
        "colab": {}
      },
      "source": [
        "class Box:\n",
        "    def set_number(self, n1, n2):\n",
        "        self.num1 = n1 # num1がインスタンス変数\n",
        "        self.num2 = n2\n",
        "        \n",
        "bx = Box()\n",
        "bx.set_number(123, 456)\n",
        "\n",
        "print(bx.num1)  # インスタンス変数の値を表示\n",
        "print(bx.num2)\n",
        "\n",
        "bx.num1 = 999  # 値を変更\n",
        "print(bx.num1)"
      ],
      "execution_count": null,
      "outputs": []
    },
    {
      "cell_type": "code",
      "metadata": {
        "id": "jHLWfjHLnefH",
        "colab_type": "code",
        "colab": {}
      },
      "source": [
        "# 練習用\n"
      ],
      "execution_count": null,
      "outputs": []
    },
    {
      "cell_type": "markdown",
      "metadata": {
        "id": "ZHSv1Cbd-m3-",
        "colab_type": "text"
      },
      "source": [
        "インスタンス変数は、インスタンスごとに異なる値を設定することができます。  \n",
        "以下の例では、`Dog`クラスから`dog1`、`dog2`、2つのインスタンスを生成し、インスタンス変数にそれぞれ異なる値を設定しています。  \n",
        "その上で、これらのインスタンスをリストに格納し、ループ内で値を表示します。"
      ]
    },
    {
      "cell_type": "code",
      "metadata": {
        "id": "b-oYXKYp-m3_",
        "colab_type": "code",
        "colab": {}
      },
      "source": [
        "class Dog:\n",
        "    def set_dog(self, n, a):\n",
        "        self.name = n\n",
        "        self.age = a\n",
        "        \n",
        "dog1 = Dog()\n",
        "dog1.set_dog(\"Pochi\", 5)\n",
        "\n",
        "dog2 = Dog()\n",
        "dog2.set_dog(\"Hachi\", 12)\n",
        "\n",
        "dogs = [dog1, dog2]  # リストに格納\n",
        "for d in dogs:\n",
        "    print(d.name, d.age)"
      ],
      "execution_count": null,
      "outputs": []
    },
    {
      "cell_type": "code",
      "metadata": {
        "id": "oLVA4jq1tCM2",
        "colab_type": "code",
        "colab": {}
      },
      "source": [
        "# 練習用\n"
      ],
      "execution_count": null,
      "outputs": []
    },
    {
      "cell_type": "markdown",
      "metadata": {
        "id": "VWXp1IvK7e45",
        "colab_type": "text"
      },
      "source": [
        "クラスを使うことで、複雑な構造を持つ処理を簡潔に記述することが可能になります。"
      ]
    },
    {
      "cell_type": "markdown",
      "metadata": {
        "id": "iI06xAN-W94U",
        "colab_type": "text"
      },
      "source": [
        "## ●ファイルの保存と読み込み\n",
        "with構文を用いて、ファイルの読み込みや保存を簡潔に記述することができます。  \n",
        "以下は、文字列をファイルに保存する例です。  \n",
        "保存されたファイルは、サイドバーで確認することができます。"
      ]
    },
    {
      "cell_type": "code",
      "metadata": {
        "id": "vC8DP5nV93TP",
        "colab_type": "code",
        "colab": {}
      },
      "source": [
        "greetings = \"Good morning! Good night!\"\n",
        "\n",
        "with open(\"greetings.txt\", \"w\") as f:\n",
        "    f.write(greetings)  # ファイルに保存"
      ],
      "execution_count": null,
      "outputs": []
    },
    {
      "cell_type": "code",
      "metadata": {
        "id": "FwhBtEkI_OBl",
        "colab_type": "code",
        "colab": {}
      },
      "source": [
        "# 練習用\n"
      ],
      "execution_count": null,
      "outputs": []
    },
    {
      "cell_type": "markdown",
      "metadata": {
        "id": "Tjp3EXIBXsXc",
        "colab_type": "text"
      },
      "source": [
        "以下は、上記で保存されたファイルを読み込んで表示する例です。"
      ]
    },
    {
      "cell_type": "code",
      "metadata": {
        "id": "APsIqyhbVXZb",
        "colab_type": "code",
        "colab": {}
      },
      "source": [
        "with open(\"greetings.txt\", \"r\") as f:\n",
        "    print(f.read())  # ファイルの読み込み"
      ],
      "execution_count": null,
      "outputs": []
    },
    {
      "cell_type": "code",
      "metadata": {
        "id": "EEvkDyzO_SXP",
        "colab_type": "code",
        "colab": {}
      },
      "source": [
        "# 練習用\n"
      ],
      "execution_count": null,
      "outputs": []
    }
  ]
}