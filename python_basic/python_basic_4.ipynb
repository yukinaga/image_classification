{
  "nbformat": 4,
  "nbformat_minor": 0,
  "metadata": {
    "colab": {
      "name": "python_basic_4.ipynb",
      "provenance": [],
      "collapsed_sections": [],
      "authorship_tag": "ABX9TyN3hNu8RarK8NNezVjCT2mF",
      "include_colab_link": true
    },
    "kernelspec": {
      "name": "python3",
      "display_name": "Python 3"
    }
  },
  "cells": [
    {
      "cell_type": "markdown",
      "metadata": {
        "id": "view-in-github",
        "colab_type": "text"
      },
      "source": [
        "<a href=\"https://colab.research.google.com/github/yukinaga/minnano_ai/blob/master/section_2/python_basic_4.ipynb\" target=\"_parent\"><img src=\"https://colab.research.google.com/assets/colab-badge.svg\" alt=\"Open In Colab\"/></a>"
      ]
    },
    {
      "cell_type": "markdown",
      "metadata": {
        "id": "ewg_pUrO-m3m"
      },
      "source": [
        "# Pythonの基礎4\n",
        "Pythonの特殊なメソッドを解説します。  \n",
        "これらを活用することで、より短くて読みやすいコードを記述することが可能になります。"
      ]
    },
    {
      "cell_type": "markdown",
      "metadata": {
        "id": "BxlxFRAm-m3o"
      },
      "source": [
        "## ●`__init__`メソッド\n",
        "**`__init__`**は特殊なメソッドで、イニシャライザ、もしくはコンストラクタと呼ばれています。  \n",
        "このメソッドでは、インスタンスの生成時にインスタンスの初期設定を行うことができます。  \n",
        "以下のクラスでは、`__init__`メソッドでインスタンス変数aの初期設定を行っています。  "
      ]
    },
    {
      "cell_type": "code",
      "metadata": {
        "id": "xftbx6T4-m3p"
      },
      "source": [
        "class Calc:  # Calcクラス\n",
        "    def __init__(self, a):  # __init__メソッド\n",
        "        self.a = a\n",
        "\n",
        "    def add(self, b):  # addメソッド\n",
        "        print(self.a + b)\n",
        "\n",
        "    def multiply(self, b):  # multiplyメソッド\n",
        "        print(self.a * b)"
      ],
      "execution_count": null,
      "outputs": []
    },
    {
      "cell_type": "code",
      "metadata": {
        "id": "wrO8sv-WZHuo"
      },
      "source": [
        "# 練習用\n"
      ],
      "execution_count": null,
      "outputs": []
    },
    {
      "cell_type": "markdown",
      "metadata": {
        "id": "L8xd1JMv-m3s"
      },
      "source": [
        "以下では、インスタンスの生成時に、3という値をインスタンスに渡しています。  \n",
        "この保持された値は、後で計算に利用することができます。  "
      ]
    },
    {
      "cell_type": "code",
      "metadata": {
        "id": "-Tnd7UjE-m3t"
      },
      "source": [
        "cl = Calc(3)  # インスタンスclを生成\n",
        "cl.add(4)  # 3 + 4\n",
        "cl.multiply(4) # 3 × 4"
      ],
      "execution_count": null,
      "outputs": []
    },
    {
      "cell_type": "code",
      "metadata": {
        "id": "cAZfsS-vZKeC"
      },
      "source": [
        "# 練習用\n"
      ],
      "execution_count": null,
      "outputs": []
    },
    {
      "cell_type": "markdown",
      "metadata": {
        "id": "jH5DBIKLMpTn"
      },
      "source": [
        "このように、`__init__`メソッドを使えばインスタンスの生成時にインスタンスに値を渡すことができます。  \n",
        "そのため、何度も繰り返して使用したり、複数のメソッドで使う値があれば、`__init__`メソッドで設定するのが効率的になります。"
      ]
    },
    {
      "cell_type": "markdown",
      "metadata": {
        "id": "5iaX234BO1_c"
      },
      "source": [
        "## ●`__call__`メソッド\n",
        "`__call__`メソッドは、インスタンス名を使って呼び出すことができます。  \n",
        "以下では、`Calc`クラスに`__init__`メソッドの他に`__call__`メソッドを実装しています。"
      ]
    },
    {
      "cell_type": "code",
      "metadata": {
        "id": "_7Ct9UGnO1_p"
      },
      "source": [
        "class Calc:  # Calcクラス\n",
        "    def __init__(self, a):  # __init__メソッド\n",
        "        self.a = a\n",
        "\n",
        "    def __call__(self, c):  # __call__メソッド\n",
        "        print(self.a * c + c)\n",
        "\n",
        "    def add(self, b):  # addメソッド\n",
        "        print(self.a + b)\n",
        "\n",
        "    def multiply(self, b):  # multiplyメソッド\n",
        "        print(self.a * b)"
      ],
      "execution_count": null,
      "outputs": []
    },
    {
      "cell_type": "code",
      "metadata": {
        "id": "8t66JIKtO1_q"
      },
      "source": [
        "# 練習用\n"
      ],
      "execution_count": null,
      "outputs": []
    },
    {
      "cell_type": "markdown",
      "metadata": {
        "id": "zk0O973kRR88"
      },
      "source": [
        "以下では、インスタンスの名`cl`を使って`__call__`メソッドを呼び出しています。  "
      ]
    },
    {
      "cell_type": "code",
      "metadata": {
        "id": "TJnm8GNxRR9I"
      },
      "source": [
        "cl = Calc(3)  # インスタンスclを生成\n",
        "\n",
        "# インスタンス名clを使って__call__メソッドを呼ぶ\n",
        "cl(5)  # 3 × 5 + 5"
      ],
      "execution_count": null,
      "outputs": []
    },
    {
      "cell_type": "code",
      "metadata": {
        "id": "JXfHeV4ORR9J"
      },
      "source": [
        "# 練習用\n"
      ],
      "execution_count": null,
      "outputs": []
    },
    {
      "cell_type": "markdown",
      "metadata": {
        "id": "5Vw5ZL6xRR9J"
      },
      "source": [
        "このように、`__call__`メソッドを使えばメソッド名を記述する必要が無くなります。  \n",
        "頻繁に用いる処理を`__call__`メソッドに記述しておくことで、コードの記述量が少なくて済むようになります。"
      ]
    }
  ]
}